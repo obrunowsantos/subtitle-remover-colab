{
 "cells": [
  {
   "cell_type": "markdown",
   "metadata": {},
   "source": [
    "# 🎬 Remoção de Legendas em Vídeo com OCR + Inpainting"
   ]
  },
  {
   "cell_type": "code",
   "execution_count": null,
   "metadata": {},
   "outputs": [],
   "source": [
    "!pip install opencv-python-headless pytesseract moviepy numpy
",
    "!apt-get install -y tesseract-ocr
",
    "import pytesseract
",
    "pytesseract.get_tesseract_version()"
   ]
  },
  {
   "cell_type": "code",
   "execution_count": null,
   "metadata": {},
   "outputs": [],
   "source": [
    "from google.colab import files
",
    "uploaded = files.upload()
",
    "import os
",
    "input_video_path = next(iter(uploaded))
",
    "output_video_path = f"output_{input_video_path}""
   ]
  },
  {
   "cell_type": "code",
   "execution_count": null,
   "metadata": {},
   "outputs": [],
   "source": [
    "import cv2
",
    "import numpy as np
",
    "import pytesseract
",
    "from moviepy.editor import VideoFileClip, ImageSequenceClip
",
    "
",
    "def detect_subtitles(frame):
",
    "    height, width = frame.shape[:2]
",
    "    roi = frame[int(height*0.75):, :]
",
    "    gray = cv2.cvtColor(roi, cv2.COLOR_BGR2GRAY)
",
    "    _, thresh = cv2.threshold(gray, 180, 255, cv2.THRESH_BINARY_INV)
",
    "    text = pytesseract.image_to_string(thresh)
",
    "    return text.strip() != "", thresh
",
    "
",
    "def remove_subtitles(frame, mask):
",
    "    height, _ = frame.shape[:2]
",
    "    full_mask = np.zeros(frame.shape[:2], dtype=np.uint8)
",
    "    full_mask[int(height*0.75):, :] = mask
",
    "    inpainted = cv2.inpaint(frame, full_mask, 3, cv2.INPAINT_TELEA)
",
    "    return inpainted
",
    "
",
    "def process_video(input_path, output_path):
",
    "    clip = VideoFileClip(input_path)
",
    "    frames = []
",
    "    for frame in clip.iter_frames():
",
    "        has_subs, mask = detect_subtitles(frame)
",
    "        if has_subs:
",
    "            frame = remove_subtitles(frame, mask)
",
    "        frames.append(frame)
",
    "    new_clip = ImageSequenceClip(frames, fps=clip.fps)
",
    "    new_clip.write_videofile(output_path, codec="libx264")"
   ]
  },
  {
   "cell_type": "code",
   "execution_count": null,
   "metadata": {},
   "outputs": [],
   "source": [
    "process_video(input_video_path, output_video_path)"
   ]
  },
  {
   "cell_type": "code",
   "execution_count": null,
   "metadata": {},
   "outputs": [],
   "source": [
    "from google.colab import files
",
    "files.download(output_video_path)"
   ]
  }
 ],
 "metadata": {
  "kernelspec": {
   "display_name": "Python 3",
   "language": "python",
   "name": "python3"
  },
  "language_info": {
   "name": "python"
  }
 },
 "nbformat": 4,
 "nbformat_minor": 2
}
