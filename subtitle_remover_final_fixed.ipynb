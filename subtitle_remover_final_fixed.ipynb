{
 "cells": [
  {
   "cell_type": "markdown",
   "metadata": {},
   "source": [
    "# 🎬 Remoção Automática de Legendas de Vídeo com OCR + Inpainting"
   ]
  },
  {
   "cell_type": "code",
   "metadata": {},
   "outputs": [],
   "source": [
    "!pip install -q opencv-python-headless pytesseract moviepy numpy",
    "!apt-get -qq install -y tesseract-ocr"
   ]
  },
  {
   "cell_type": "code",
   "metadata": {},
   "outputs": [],
   "source": [
    "from google.colab import files",
    "uploaded = files.upload()",
    "filename = next(iter(uploaded))"
   ]
  },
  {
   "cell_type": "code",
   "metadata": {},
   "outputs": [],
   "source": [
    "import cv2",
    "import numpy as np",
    "import pytesseract",
    "from moviepy.editor import VideoFileClip, ImageSequenceClip",
    "import os",
    "from tqdm import tqdm"
   ]
  },
  {
   "cell_type": "code",
   "metadata": {},
   "outputs": [],
   "source": [
    "def detect_subtitles(frame):",
    "    height = frame.shape[0]",
    "    roi = frame[int(height * 0.75):, :]",
    "    gray = cv2.cvtColor(roi, cv2.COLOR_RGB2GRAY)",
    "    _, mask = cv2.threshold(gray, 180, 255, cv2.THRESH_BINARY_INV)",
    "    text = pytesseract.image_to_string(mask)",
    "    return text.strip() != '', mask"
   ]
  },
  {
   "cell_type": "code",
   "metadata": {},
   "outputs": [],
   "source": [
    "def remove_subtitles(frame, mask):",
    "    height = frame.shape[0]",
    "    full_mask = np.zeros(frame.shape[:2], dtype=np.uint8)",
    "    full_mask[int(height * 0.75):, :] = mask",
    "    result = cv2.inpaint(frame, full_mask, 3, cv2.INPAINT_TELEA)",
    "    return result"
   ]
  },
  {
   "cell_type": "code",
   "metadata": {},
   "outputs": [],
   "source": [
    "def process_video(input_path, output_path):",
    "    clip = VideoFileClip(input_path)",
    "    processed_frames = []",
    "    for frame in tqdm(clip.iter_frames()):",
    "        has_subtitles, mask = detect_subtitles(frame)",
    "        if has_subtitles:",
    "            frame = remove_subtitles(frame, mask)",
    "        processed_frames.append(frame)",
    "    final_clip = ImageSequenceClip(processed_frames, fps=clip.fps)",
    "    final_clip.write_videofile(output_path, codec='libx264')"
   ]
  },
  {
   "cell_type": "code",
   "metadata": {},
   "outputs": [],
   "source": [
    "output_name = 'output_' + filename",
    "process_video(filename, output_name)"
   ]
  },
  {
   "cell_type": "code",
   "metadata": {},
   "outputs": [],
   "source": [
    "from google.colab import files",
    "files.download(output_name)"
   ]
  }
 ],
 "metadata": {
  "kernelspec": {
   "display_name": "Python 3",
   "language": "python",
   "name": "python3"
  },
  "language_info": {
   "name": "python"
  }
 },
 "nbformat": 4,
 "nbformat_minor": 2
}
